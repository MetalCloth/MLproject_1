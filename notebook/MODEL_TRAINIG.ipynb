{
 "cells": [
  {
   "cell_type": "code",
   "execution_count": 4,
   "metadata": {},
   "outputs": [],
   "source": [
    "import numpy as np  \n",
    "import matplotlib.pyplot as plt\n",
    "import pandas as pd\n",
    "from sklearn.model_selection import GridSearchCV\n",
    "import seaborn as sns\n",
    "from sklearn.metrics import mean_absolute_error, mean_squared_error, r2_score,accuracy_score\n",
    "from sklearn.neighbors import KNeighborsRegressor\n",
    "from sklearn.tree import DecisionTreeRegressor\n",
    "from sklearn.ensemble import RandomForestRegressor\n",
    "from sklearn.model_selection import train_test_split\n",
    "from sklearn.preprocessing import StandardScaler\n",
    "from sklearn.linear_model import LinearRegression\n",
    "from sklearn.svm import SVR\n",
    "from sklearn.ensemble import GradientBoostingRegressor\n",
    "from sklearn.ensemble import AdaBoostRegressor\n",
    "from sklearn.linear_model import Lasso, Ridge, ElasticNet\n",
    "\n",
    "import warnings\n",
    "warnings.filterwarnings('ignore')\n"
   ]
  },
  {
   "cell_type": "code",
   "execution_count": 5,
   "metadata": {},
   "outputs": [],
   "source": [
    "df=pd.read_csv('StudentsPerformance.csv')"
   ]
  },
  {
   "cell_type": "code",
   "execution_count": 6,
   "metadata": {},
   "outputs": [],
   "source": [
    "X=df.drop('math score',axis=1)\n",
    "y=df['math score']\n",
    "num_features=X.select_dtypes(exclude='object').columns\n",
    "cat_features=X.select_dtypes(include='object').columns\n",
    "\n",
    "from sklearn.preprocessing import OneHotEncoder, StandardScaler\n",
    "from sklearn.compose import ColumnTransformer"
   ]
  },
  {
   "cell_type": "code",
   "execution_count": 7,
   "metadata": {},
   "outputs": [],
   "source": [
    "numeric_transformer = StandardScaler()\n",
    "oh_transformer = OneHotEncoder()\n",
    "preprocessor = ColumnTransformer(\n",
    "    transformers=[\n",
    "        ('num', numeric_transformer, num_features),\n",
    "        ('cat', oh_transformer, cat_features)])\n",
    "X_scaled=preprocessor.fit_transform(X)"
   ]
  },
  {
   "cell_type": "code",
   "execution_count": 8,
   "metadata": {},
   "outputs": [
    {
     "data": {
      "text/plain": [
       "array([[ 0.19399858,  0.39149181,  1.        , ...,  1.        ,\n",
       "         0.        ,  1.        ],\n",
       "       [ 1.42747598,  1.31326868,  1.        , ...,  1.        ,\n",
       "         1.        ,  0.        ],\n",
       "       [ 1.77010859,  1.64247471,  1.        , ...,  1.        ,\n",
       "         0.        ,  1.        ],\n",
       "       ...,\n",
       "       [ 0.12547206, -0.20107904,  1.        , ...,  0.        ,\n",
       "         1.        ,  0.        ],\n",
       "       [ 0.60515772,  0.58901542,  1.        , ...,  1.        ,\n",
       "         1.        ,  0.        ],\n",
       "       [ 1.15336989,  1.18158627,  1.        , ...,  0.        ,\n",
       "         0.        ,  1.        ]])"
      ]
     },
     "execution_count": 8,
     "metadata": {},
     "output_type": "execute_result"
    }
   ],
   "source": [
    "X_scaled"
   ]
  },
  {
   "cell_type": "code",
   "execution_count": 9,
   "metadata": {},
   "outputs": [
    {
     "data": {
      "text/plain": [
       "(1000, 7)"
      ]
     },
     "execution_count": 9,
     "metadata": {},
     "output_type": "execute_result"
    }
   ],
   "source": [
    "X.shape"
   ]
  },
  {
   "cell_type": "code",
   "execution_count": 10,
   "metadata": {},
   "outputs": [],
   "source": [
    "X_train, X_test, y_train, y_test = train_test_split(X_scaled, y, test_size=0.2, random_state=42)"
   ]
  },
  {
   "cell_type": "code",
   "execution_count": 11,
   "metadata": {},
   "outputs": [
    {
     "data": {
      "text/plain": [
       "(800, 19)"
      ]
     },
     "execution_count": 11,
     "metadata": {},
     "output_type": "execute_result"
    }
   ],
   "source": [
    "X_train.shape"
   ]
  },
  {
   "cell_type": "code",
   "execution_count": 12,
   "metadata": {},
   "outputs": [
    {
     "data": {
      "text/plain": [
       "(200, 19)"
      ]
     },
     "execution_count": 12,
     "metadata": {},
     "output_type": "execute_result"
    }
   ],
   "source": [
    "X_test.shape\n"
   ]
  },
  {
   "cell_type": "code",
   "execution_count": 13,
   "metadata": {},
   "outputs": [],
   "source": [
    "def evaluate_model(true,predicted):\n",
    "    mae=mean_absolute_error(true,predicted)\n",
    "    mse=mean_squared_error(true,predicted)\n",
    "    r2=r2_score(true,predicted)\n",
    "    return mae,mse,r2\n",
    "\n"
   ]
  },
  {
   "cell_type": "code",
   "execution_count": 14,
   "metadata": {},
   "outputs": [],
   "source": [
    "models={\n",
    "    \"Linear Regression\":LinearRegression(),\n",
    "    \"Lasso\":Lasso(),\n",
    "    \"Ridge\":Ridge(),\n",
    "    \"ElasticNet\":ElasticNet(),\n",
    "    \"K-Neighbors Regressor\":KNeighborsRegressor(),\n",
    "    \"Decision Tree\":DecisionTreeRegressor(),\n",
    "    \"Random Forest\":RandomForestRegressor(),\n",
    "    \"Gradient Boosting\":GradientBoostingRegressor(),\n",
    "    \"AdaBoost\":AdaBoostRegressor(),\n",
    "    \"SVR\":SVR()\n",
    "    \n",
    "}"
   ]
  },
  {
   "cell_type": "code",
   "execution_count": 15,
   "metadata": {},
   "outputs": [
    {
     "name": "stdout",
     "output_type": "stream",
     "text": [
      "Linear Regression\n",
      "TRAINING SET\n",
      "The model of Linear Regression has a r2 score of 0.8743172040139593 \n",
      "The model of Linear Regression has a mae of 4.266711846071956 \n",
      "The model of Linear Regression has a mse of 28.33487038064859 \n",
      "\n",
      "\n",
      "TEST SET\n",
      "The model of Linear Regression has a r2 score of 0.8804332983749565 \n",
      "The model of Linear Regression has a mae of 4.214763142474849 \n",
      "The model of Linear Regression has a mse of 29.095169866715466 \n",
      "\n",
      "\n",
      "\n",
      "\n",
      "Lasso\n",
      "TRAINING SET\n",
      "The model of Lasso has a r2 score of 0.8071466723085148 \n",
      "The model of Lasso has a mae of 5.206296077972952 \n",
      "The model of Lasso has a mse of 43.47829788272618 \n",
      "\n",
      "\n",
      "TEST SET\n",
      "The model of Lasso has a r2 score of 0.825320079562973 \n",
      "The model of Lasso has a mae of 5.157879138921816 \n",
      "The model of Lasso has a mse of 42.50633235127344 \n",
      "\n",
      "\n",
      "\n",
      "\n",
      "Ridge\n",
      "TRAINING SET\n",
      "The model of Ridge has a r2 score of 0.8743042615212909 \n",
      "The model of Ridge has a mae of 4.264987823725981 \n",
      "The model of Ridge has a mse of 28.337788233082442 \n",
      "\n",
      "\n",
      "TEST SET\n",
      "The model of Ridge has a r2 score of 0.8805931485028737 \n",
      "The model of Ridge has a mae of 4.211100688014261 \n",
      "The model of Ridge has a mse of 29.056272192348302 \n",
      "\n",
      "\n",
      "\n",
      "\n",
      "ElasticNet\n",
      "TRAINING SET\n",
      "The model of ElasticNet has a r2 score of 0.7337804264648113 \n",
      "The model of ElasticNet has a mae of 6.170049952066786 \n",
      "The model of ElasticNet has a mse of 60.01853356086169 \n",
      "\n",
      "\n",
      "TEST SET\n",
      "The model of ElasticNet has a r2 score of 0.7396263250512182 \n",
      "The model of ElasticNet has a mae of 6.3900894757169 \n",
      "The model of ElasticNet has a mse of 63.35891346415665 \n",
      "\n",
      "\n",
      "\n",
      "\n",
      "K-Neighbors Regressor\n",
      "TRAINING SET\n",
      "The model of K-Neighbors Regressor has a r2 score of 0.8552410116072555 \n",
      "The model of K-Neighbors Regressor has a mae of 4.51675 \n",
      "The model of K-Neighbors Regressor has a mse of 32.635549999999995 \n",
      "\n",
      "\n",
      "TEST SET\n",
      "The model of K-Neighbors Regressor has a r2 score of 0.7837702557426202 \n",
      "The model of K-Neighbors Regressor has a mae of 5.619 \n",
      "The model of K-Neighbors Regressor has a mse of 52.617 \n",
      "\n",
      "\n",
      "\n",
      "\n",
      "Decision Tree\n",
      "TRAINING SET\n",
      "The model of Decision Tree has a r2 score of 0.9996534669718089 \n",
      "The model of Decision Tree has a mae of 0.01875 \n",
      "The model of Decision Tree has a mse of 0.078125 \n",
      "\n",
      "\n",
      "TEST SET\n",
      "The model of Decision Tree has a r2 score of 0.7178620390369954 \n",
      "The model of Decision Tree has a mae of 6.615 \n",
      "The model of Decision Tree has a mse of 68.655 \n",
      "\n",
      "\n",
      "\n",
      "\n",
      "Random Forest\n",
      "TRAINING SET\n",
      "The model of Random Forest has a r2 score of 0.9759905734733957 \n",
      "The model of Random Forest has a mae of 1.842228125 \n",
      "The model of Random Forest has a mse of 5.412864849224065 \n",
      "\n",
      "\n",
      "TEST SET\n",
      "The model of Random Forest has a r2 score of 0.8489371275062417 \n",
      "The model of Random Forest has a mae of 4.665283333333333 \n",
      "The model of Random Forest has a mse of 36.759397692035144 \n",
      "\n",
      "\n",
      "\n",
      "\n",
      "Gradient Boosting\n",
      "TRAINING SET\n",
      "The model of Gradient Boosting has a r2 score of 0.9050396644022572 \n",
      "The model of Gradient Boosting has a mae of 3.722632404265115 \n",
      "The model of Gradient Boosting has a mse of 21.40856892429239 \n",
      "\n",
      "\n",
      "TEST SET\n",
      "The model of Gradient Boosting has a r2 score of 0.8720227457499989 \n",
      "The model of Gradient Boosting has a mae of 4.312371093642953 \n",
      "The model of Gradient Boosting has a mse of 31.141780285588474 \n",
      "\n",
      "\n",
      "\n",
      "\n",
      "AdaBoost\n",
      "TRAINING SET\n",
      "The model of AdaBoost has a r2 score of 0.8467608549367098 \n",
      "The model of AdaBoost has a mae of 4.809446238640869 \n",
      "The model of AdaBoost has a mse of 34.547380001730616 \n",
      "\n",
      "\n",
      "TEST SET\n",
      "The model of AdaBoost has a r2 score of 0.8508684340083666 \n",
      "The model of AdaBoost has a mae of 4.678717350534746 \n",
      "The model of AdaBoost has a mse of 36.289436657898484 \n",
      "\n",
      "\n",
      "\n",
      "\n",
      "SVR\n",
      "TRAINING SET\n",
      "The model of SVR has a r2 score of 0.8081281585902299 \n",
      "The model of SVR has a mae of 4.869189452384867 \n",
      "The model of SVR has a mse of 43.257024268031365 \n",
      "\n",
      "\n",
      "TEST SET\n",
      "The model of SVR has a r2 score of 0.7286001513223705 \n",
      "The model of SVR has a mae of 5.401539244496997 \n",
      "The model of SVR has a mse of 66.04200493745648 \n",
      "\n",
      "\n",
      "\n",
      "\n"
     ]
    }
   ],
   "source": [
    "model_list=[]\n",
    "r2_list=[]\n",
    "for i in range(len(list(models))):\n",
    "    model=list(models.values())[i]\n",
    "    model.fit(X_train,y_train)\n",
    "    y_train_pred=model.predict(X_train)\n",
    "\n",
    "    mae,mse,r2=evaluate_model(y_train,y_train_pred)\n",
    "    \n",
    "    print(list(models.keys())[i])\n",
    "    model_list.append(list(models.keys())[i])\n",
    "\n",
    "    print(\"TRAINING SET\")\n",
    "    print(\"The model of {} has a r2 score of {} \".format(list(models.keys())[i],r2))\n",
    "    print(\"The model of {} has a mae of {} \".format(list(models.keys())[i],mae))\n",
    "    print(\"The model of {} has a mse of {} \".format(list(models.keys())[i],mse))\n",
    "    \n",
    "    y_test_pred=model.predict(X_test)\n",
    "    print(\"\\n\")\n",
    "    mae,mse,r2=evaluate_model(y_test,y_test_pred)\n",
    "    print(\"TEST SET\")\n",
    "    print(\"The model of {} has a r2 score of {} \".format(list(models.keys())[i],r2))\n",
    "    print(\"The model of {} has a mae of {} \".format(list(models.keys())[i],mae))\n",
    "    print(\"The model of {} has a mse of {} \".format(list(models.keys())[i],mse))\n",
    "\n",
    "    print(\"\\n\")\n",
    "    print(\"\\n\")\n",
    "    r2_list.append(r2)\n",
    "    "
   ]
  },
  {
   "cell_type": "code",
   "execution_count": 16,
   "metadata": {},
   "outputs": [
    {
     "name": "stdout",
     "output_type": "stream",
     "text": [
      "Linear Regression R2 Score:  88.04332983749565\n"
     ]
    }
   ],
   "source": [
    "param_grid = {'alpha': [0.01, 0.1, 1, 10, 100]}\n",
    "linear=LinearRegression(fit_intercept=True)\n",
    "linear=linear.fit(X_train,y_train)\n",
    "y_pred=linear.predict(X_test)\n",
    "score=r2_score(y_test,y_pred)*100\n",
    "print(\"Linear Regression R2 Score: \",score)\n",
    "\n"
   ]
  },
  {
   "cell_type": "code",
   "execution_count": 17,
   "metadata": {},
   "outputs": [
    {
     "data": {
      "text/plain": [
       "Text(0.5, 0, 'Models')"
      ]
     },
     "execution_count": 17,
     "metadata": {},
     "output_type": "execute_result"
    },
    {
     "data": {
      "image/png": "[encoded data removed]",
      "text/plain": [
       "<Figure size 640x480 with 1 Axes>"
      ]
     },
     "metadata": {},
     "output_type": "display_data"
    }
   ],
   "source": [
    "plt.scatter(y_test,y_pred)\n",
    "plt.xlabel('Models')"
   ]
  },
  {
   "cell_type": "code",
   "execution_count": 18,
   "metadata": {},
   "outputs": [
    {
     "data": {
      "text/plain": [
       "<Axes: xlabel='math score'>"
      ]
     },
     "execution_count": 18,
     "metadata": {},
     "output_type": "execute_result"
    },
    {
     "data": {
      "image/png": "[encoded data removed]",
      "text/plain": [
       "<Figure size 640x480 with 1 Axes>"
      ]
     },
     "metadata": {},
     "output_type": "display_data"
    }
   ],
   "source": [
    "sns.regplot(x=y_test,y=y_pred,color='red')"
   ]
  },
  {
   "cell_type": "code",
   "execution_count": null,
   "metadata": {},
   "outputs": [],
   "source": []
  }
 ],
 "metadata": {
  "kernelspec": {
   "display_name": "Python 3",
   "language": "python",
   "name": "python3"
  },
  "language_info": {
   "codemirror_mode": {
    "name": "ipython",
    "version": 3
   },
   "file_extension": ".py",
   "mimetype": "text/x-python",
   "name": "python",
   "nbconvert_exporter": "python",
   "pygments_lexer": "ipython3",
   "version": "3.8.20"
  }
 },
 "nbformat": 4,
 "nbformat_minor": 2
}
